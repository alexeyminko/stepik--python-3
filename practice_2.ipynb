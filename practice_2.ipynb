{
 "cells": [
  {
   "cell_type": "code",
   "execution_count": 6,
   "id": "17a386d2",
   "metadata": {},
   "outputs": [
    {
     "name": "stdout",
     "output_type": "stream",
     "text": [
      "Hello\n",
      "Hello Hello\n",
      "Hello Hello Hello\n",
      "Hello Hello Hello Hello\n",
      "Hello Hello Hello Hello Hello\n"
     ]
    }
   ],
   "source": [
    "for i in range(1, 6):\n",
    "    print('Hello ' * (i - 1), 'Hello', sep='')"
   ]
  },
  {
   "cell_type": "code",
   "execution_count": 7,
   "id": "403e2546",
   "metadata": {},
   "outputs": [
    {
     "name": "stdout",
     "output_type": "stream",
     "text": [
      "Александр\n",
      "Пушкин\n"
     ]
    }
   ],
   "source": [
    "a = 'Александр'\n",
    "b = 'Пушкин'\n",
    "print(a, b, sep='\\n')"
   ]
  },
  {
   "cell_type": "code",
   "execution_count": 8,
   "id": "6be89cfd",
   "metadata": {},
   "outputs": [
    {
     "name": "stdout",
     "output_type": "stream",
     "text": [
      "Hello, world!\n"
     ]
    }
   ],
   "source": [
    "text_1 = 'Hello,'\n",
    "text_2 = 'world!'\n",
    "print(text_1, text_2)"
   ]
  },
  {
   "cell_type": "code",
   "execution_count": 9,
   "id": "6f4881a1",
   "metadata": {},
   "outputs": [
    {
     "name": "stdout",
     "output_type": "stream",
     "text": [
      "qwe\n",
      "qwe\n"
     ]
    }
   ],
   "source": [
    "print(input())"
   ]
  },
  {
   "cell_type": "code",
   "execution_count": null,
   "id": "0b1b4e62",
   "metadata": {},
   "outputs": [],
   "source": [
    "for i in range(3):\n",
    "    print(input())"
   ]
  },
  {
   "cell_type": "code",
   "execution_count": 10,
   "id": "98716681",
   "metadata": {},
   "outputs": [
    {
     "name": "stdout",
     "output_type": "stream",
     "text": [
      "qw\n",
      "er\n",
      "ty\n",
      "ty\n",
      "er\n",
      "qw\n"
     ]
    }
   ],
   "source": [
    "res = [input() for i in range(3)]\n",
    "print(*res[::-1], sep='\\n')"
   ]
  },
  {
   "cell_type": "code",
   "execution_count": null,
   "id": "40ed39b3",
   "metadata": {},
   "outputs": [],
   "source": [
    "name = input()\n",
    "date = input()\n",
    "place = input()\n",
    "print(f'Дорогой {name} !')\n",
    "print(f'Приглашаем вас на {date} , который состоится {place} !')"
   ]
  },
  {
   "cell_type": "code",
   "execution_count": 11,
   "id": "cd703391",
   "metadata": {},
   "outputs": [
    {
     "name": "stdout",
     "output_type": "stream",
     "text": [
      "qw\n",
      "as\n",
      "qw\n",
      "qw\n",
      "qw\n",
      "as\n",
      "as\n",
      "as\n"
     ]
    }
   ],
   "source": [
    "a, b = input(), input()\n",
    "for _ in range(3):\n",
    "    print(a)\n",
    "for _ in range(3):\n",
    "    print(b)"
   ]
  },
  {
   "cell_type": "code",
   "execution_count": null,
   "id": "95abf749",
   "metadata": {},
   "outputs": [],
   "source": [
    "print('Привет, ты кто?')\n",
    "a = input()\n",
    "print('Привет,', a)\n",
    "print('Чего надо?')\n",
    "b = input()\n",
    "print(b, 'надо? Обойдешься!')\n",
    "print('Пока!')"
   ]
  },
  {
   "cell_type": "code",
   "execution_count": null,
   "id": "88c7f656",
   "metadata": {},
   "outputs": [],
   "source": [
    "print('Здравствуйте, что будете заказывать?')\n",
    "a = input()\n",
    "print('Отлично, что будете пить?')\n",
    "b = input()\n",
    "print('Что принести на десерт?')\n",
    "c = input()\n",
    "print(a, 'будет через 15-20 минут.')\n",
    "print('На десерт будет', c, 'и', b, 'через 25 минут.')\n",
    "print('Приятного аппетита.')"
   ]
  },
  {
   "cell_type": "code",
   "execution_count": 12,
   "id": "8687ca00",
   "metadata": {},
   "outputs": [
    {
     "name": "stdout",
     "output_type": "stream",
     "text": [
      "1\n",
      "333\n",
      "55555\n",
      "7777777\n",
      "999999999\n"
     ]
    }
   ],
   "source": [
    "for i in range(1, 10, 2):\n",
    "    print(str(i) * i)"
   ]
  },
  {
   "cell_type": "code",
   "execution_count": null,
   "id": "47a28416",
   "metadata": {},
   "outputs": [],
   "source": [
    "print('Введите логин:')\n",
    "a = input()\n",
    "print('Введите пароль:')\n",
    "b = input()\n",
    "print('Введите дату рождения:')\n",
    "c = input()\n",
    "print('Ваш логин:', a, 'пароль:', b)\n",
    "print(f'Регистрация завершена! Добро пожаловать, {a}!')"
   ]
  }
 ],
 "metadata": {
  "kernelspec": {
   "display_name": "Python 3 (ipykernel)",
   "language": "python",
   "name": "python3"
  },
  "language_info": {
   "codemirror_mode": {
    "name": "ipython",
    "version": 3
   },
   "file_extension": ".py",
   "mimetype": "text/x-python",
   "name": "python",
   "nbconvert_exporter": "python",
   "pygments_lexer": "ipython3",
   "version": "3.9.7"
  }
 },
 "nbformat": 4,
 "nbformat_minor": 5
}
