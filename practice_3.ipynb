{
 "cells": [
  {
   "cell_type": "code",
   "execution_count": 1,
   "id": "bd671f55",
   "metadata": {},
   "outputs": [
    {
     "name": "stdout",
     "output_type": "stream",
     "text": [
      "4\n",
      "400\n"
     ]
    }
   ],
   "source": [
    "n = int(input())\n",
    "print(100*n)"
   ]
  },
  {
   "cell_type": "code",
   "execution_count": 2,
   "id": "d5c0378a",
   "metadata": {},
   "outputs": [
    {
     "name": "stdout",
     "output_type": "stream",
     "text": [
      "2\n",
      "3\n",
      "5\n"
     ]
    }
   ],
   "source": [
    "a, b = int(input()), int(input())\n",
    "print(a + b)"
   ]
  },
  {
   "cell_type": "code",
   "execution_count": 4,
   "id": "87253953",
   "metadata": {},
   "outputs": [
    {
     "name": "stdout",
     "output_type": "stream",
     "text": [
      "1.89\n",
      "1\n"
     ]
    }
   ],
   "source": [
    "n = float(input())\n",
    "print(int(n))"
   ]
  },
  {
   "cell_type": "code",
   "execution_count": 5,
   "id": "b4f696f6",
   "metadata": {},
   "outputs": [
    {
     "name": "stdout",
     "output_type": "stream",
     "text": [
      "0000001\n",
      "1\n"
     ]
    }
   ],
   "source": [
    "print(int(input()))"
   ]
  },
  {
   "cell_type": "code",
   "execution_count": null,
   "id": "1b7feec6",
   "metadata": {},
   "outputs": [],
   "source": [
    "a, b = int(input()), int(input())\n",
    "print(abs(a**2 - b**2))"
   ]
  },
  {
   "cell_type": "code",
   "execution_count": 8,
   "id": "4f2afabb",
   "metadata": {},
   "outputs": [
    {
     "name": "stdout",
     "output_type": "stream",
     "text": [
      "3\n",
      "18.849\n",
      "28.273500000000002\n"
     ]
    }
   ],
   "source": [
    "r = float(input())\n",
    "print(2 * 3.1415 * r)\n",
    "print(3.1415 * r**2)"
   ]
  },
  {
   "cell_type": "code",
   "execution_count": 9,
   "id": "e6fc95f5",
   "metadata": {},
   "outputs": [
    {
     "name": "stdout",
     "output_type": "stream",
     "text": [
      "1000\n",
      "1\n"
     ]
    }
   ],
   "source": [
    "n = int(input())\n",
    "print(n // 1000)"
   ]
  },
  {
   "cell_type": "code",
   "execution_count": null,
   "id": "e658bbde",
   "metadata": {},
   "outputs": [],
   "source": [
    "n = input()\n",
    "print(n[1])"
   ]
  },
  {
   "cell_type": "code",
   "execution_count": 10,
   "id": "8fc0f497",
   "metadata": {},
   "outputs": [
    {
     "name": "stdout",
     "output_type": "stream",
     "text": [
      "123\n",
      "6\n"
     ]
    }
   ],
   "source": [
    "n = int(input())\n",
    "print(n // 100 + n % 100 // 10 + n % 10)"
   ]
  },
  {
   "cell_type": "code",
   "execution_count": 12,
   "id": "6a213f9b",
   "metadata": {},
   "outputs": [
    {
     "name": "stdout",
     "output_type": "stream",
     "text": [
      "800\n",
      "2\n"
     ]
    }
   ],
   "source": [
    "n = int(input())\n",
    "print(n // 400)"
   ]
  },
  {
   "cell_type": "code",
   "execution_count": 13,
   "id": "b7df1565",
   "metadata": {},
   "outputs": [
    {
     "name": "stdout",
     "output_type": "stream",
     "text": [
      "9990\n",
      "999\n"
     ]
    }
   ],
   "source": [
    "n = input()\n",
    "print(int(n[::-1]))"
   ]
  },
  {
   "cell_type": "code",
   "execution_count": 23,
   "id": "ba93ea7b",
   "metadata": {},
   "outputs": [
    {
     "name": "stdout",
     "output_type": "stream",
     "text": [
      "4.6\n",
      "5\n"
     ]
    }
   ],
   "source": [
    "n = float(input())\n",
    "print((round(n)))"
   ]
  },
  {
   "cell_type": "code",
   "execution_count": null,
   "id": "1c1e8c4e",
   "metadata": {},
   "outputs": [],
   "source": [
    "a, b = float(input()), float(input())\n",
    "print(round(abs(a - b), 1))"
   ]
  },
  {
   "cell_type": "code",
   "execution_count": null,
   "id": "5b219297",
   "metadata": {},
   "outputs": [],
   "source": [
    "a, b = input(), input()\n",
    "print(a + b)"
   ]
  },
  {
   "cell_type": "code",
   "execution_count": null,
   "id": "6cb00af7",
   "metadata": {},
   "outputs": [],
   "source": [
    "for i in range(1, 21):\n",
    "    print('Hello' * i)"
   ]
  },
  {
   "cell_type": "code",
   "execution_count": null,
   "id": "0343281d",
   "metadata": {},
   "outputs": [],
   "source": [
    "a, b = input(), int(input())\n",
    "for i in range(b):\n",
    "    print(a, end=' ')"
   ]
  },
  {
   "cell_type": "code",
   "execution_count": null,
   "id": "0a4d47c8",
   "metadata": {},
   "outputs": [],
   "source": [
    "string = input()\n",
    "print(string * len(string))"
   ]
  },
  {
   "cell_type": "code",
   "execution_count": 26,
   "id": "4338de26",
   "metadata": {},
   "outputs": [
    {
     "name": "stdout",
     "output_type": "stream",
     "text": [
      "1234\n",
      "1234\n"
     ]
    }
   ],
   "source": [
    "n = input()\n",
    "print('0' * (4 - len(n)) + n)"
   ]
  },
  {
   "cell_type": "code",
   "execution_count": 28,
   "id": "10adbb3c",
   "metadata": {},
   "outputs": [
    {
     "name": "stdout",
     "output_type": "stream",
     "text": [
      "5.5369\n",
      "0.537\n"
     ]
    }
   ],
   "source": [
    "n = float(input())\n",
    "print(round(n % 1, 3))"
   ]
  },
  {
   "cell_type": "code",
   "execution_count": 29,
   "id": "ea241c6a",
   "metadata": {},
   "outputs": [
    {
     "name": "stdout",
     "output_type": "stream",
     "text": [
      "1\n",
      "1\n",
      "2022\n",
      "01.01.2022\n"
     ]
    }
   ],
   "source": [
    "a, b, c = input(), input(), input()\n",
    "a = '0' * (2 - len(a)) + a\n",
    "b = '0' * (2 - len(b)) + b\n",
    "print(f'{a}.{b}.{c}')"
   ]
  },
  {
   "cell_type": "code",
   "execution_count": 34,
   "id": "fcb5b74a",
   "metadata": {},
   "outputs": [
    {
     "name": "stdout",
     "output_type": "stream",
     "text": [
      "12345\n",
      "5\n",
      "4\n",
      "3\n",
      "2\n",
      "1\n"
     ]
    }
   ],
   "source": [
    "n = input()\n",
    "for i in range(len(n)):\n",
    "    print(n[len(n) - i - 1])"
   ]
  },
  {
   "cell_type": "code",
   "execution_count": 49,
   "id": "558f03d7",
   "metadata": {},
   "outputs": [
    {
     "name": "stdout",
     "output_type": "stream",
     "text": [
      "-2.555\n",
      "dich'\n",
      "dich'dich'\n",
      "dich'dich'dich'dich'dich'dich'\n"
     ]
    }
   ],
   "source": [
    "a, b = float(input()), input()\n",
    "a1 = int(abs(a) // 1)\n",
    "a2 = str(round(abs(a), 1))[-1]\n",
    "print(b * a1)\n",
    "print(b * int(a2))"
   ]
  },
  {
   "cell_type": "code",
   "execution_count": 51,
   "id": "38445bd2",
   "metadata": {},
   "outputs": [
    {
     "name": "stdout",
     "output_type": "stream",
     "text": [
      "3\n",
      "5\n",
      "141.4\n"
     ]
    }
   ],
   "source": [
    "r, h = int(input()), int(input())\n",
    "print(round(3.1415 * r**2 * h, 1))"
   ]
  },
  {
   "cell_type": "code",
   "execution_count": 68,
   "id": "e5474a74",
   "metadata": {},
   "outputs": [
    {
     "name": "stdout",
     "output_type": "stream",
     "text": [
      "700\n",
      "100\n"
     ]
    }
   ],
   "source": [
    "n = int(input())\n",
    "if n % 400 == 0:\n",
    "    print(0)\n",
    "else:\n",
    "    print(400 - n % 400)"
   ]
  },
  {
   "cell_type": "code",
   "execution_count": 72,
   "id": "4b1113fa",
   "metadata": {},
   "outputs": [
    {
     "name": "stdout",
     "output_type": "stream",
     "text": [
      "0\n",
      "00:00:00\n"
     ]
    }
   ],
   "source": [
    "n = int(input())\n",
    "a = '0' * (2 - len(str(n // (60 * 60)))) + str(n // (60 * 60))\n",
    "b = '0' * (2 - len(str(n % (60 * 60) // 60))) + str(n % (60 * 60) // 60)\n",
    "c = '0' * (2 - len(str(n % 60))) + str(n % 60)\n",
    "print(f'{a}:{b}:{c}')"
   ]
  },
  {
   "cell_type": "code",
   "execution_count": 75,
   "id": "d23cc09e",
   "metadata": {},
   "outputs": [
    {
     "name": "stdout",
     "output_type": "stream",
     "text": [
      "11\n",
      "6\n"
     ]
    }
   ],
   "source": [
    "n = int(input())\n",
    "if n % 2 == 0:\n",
    "    print(n // 2)\n",
    "else:\n",
    "    print(n // 2 + 1)"
   ]
  },
  {
   "cell_type": "code",
   "execution_count": null,
   "id": "fae88385",
   "metadata": {},
   "outputs": [],
   "source": []
  },
  {
   "cell_type": "code",
   "execution_count": null,
   "id": "2eca3505",
   "metadata": {},
   "outputs": [],
   "source": [
    "67453\n",
    "\n",
    "Sample Output 1:\n",
    "\n",
    "18:44:13\n",
    "\n",
    "Sample Input 2:\n",
    "\n",
    "0\n",
    "\n",
    "Sample Output 2:\n",
    "\n",
    "00:00:00"
   ]
  }
 ],
 "metadata": {
  "kernelspec": {
   "display_name": "Python 3 (ipykernel)",
   "language": "python",
   "name": "python3"
  },
  "language_info": {
   "codemirror_mode": {
    "name": "ipython",
    "version": 3
   },
   "file_extension": ".py",
   "mimetype": "text/x-python",
   "name": "python",
   "nbconvert_exporter": "python",
   "pygments_lexer": "ipython3",
   "version": "3.9.7"
  }
 },
 "nbformat": 4,
 "nbformat_minor": 5
}
