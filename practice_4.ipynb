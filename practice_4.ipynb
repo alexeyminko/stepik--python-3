{
 "cells": [
  {
   "cell_type": "code",
   "execution_count": null,
   "id": "c57c51fa",
   "metadata": {},
   "outputs": [],
   "source": [
    "if input() == 'Привет':\n",
    "    print('Привет, мир!')"
   ]
  },
  {
   "cell_type": "code",
   "execution_count": null,
   "id": "feeb80b2",
   "metadata": {},
   "outputs": [],
   "source": [
    "print('Столица Чувашской Республики?')\n",
    "city = input()\n",
    "if city == 'Чебоксары':\n",
    "    print('Правильно')\n",
    "else:\n",
    "    print('Неправильно')"
   ]
  },
  {
   "cell_type": "code",
   "execution_count": null,
   "id": "2542a9f0",
   "metadata": {},
   "outputs": [],
   "source": [
    "pass1 = input()\n",
    "pass2 = input()\n",
    "if pass1 == pass2:\n",
    "    print('Пароль подтвержден')\n",
    "else:\n",
    "    print('Ошибка ввода пароля')"
   ]
  },
  {
   "cell_type": "code",
   "execution_count": null,
   "id": "2c5e494b",
   "metadata": {},
   "outputs": [],
   "source": [
    "if int(input()) % 2 == 0:\n",
    "    print('Четное')\n",
    "else:\n",
    "    print('Нечетное')"
   ]
  },
  {
   "cell_type": "code",
   "execution_count": null,
   "id": "a1e86935",
   "metadata": {},
   "outputs": [],
   "source": [
    "num1 = int(input())\n",
    "num2 = int(input())\n",
    "if num2 < num1:\n",
    "    print('Холодно')\n",
    "elif num2 > num1:\n",
    "    print('Горячо')\n",
    "else:\n",
    "    print('Угадал')"
   ]
  },
  {
   "cell_type": "code",
   "execution_count": null,
   "id": "c3035792",
   "metadata": {},
   "outputs": [],
   "source": [
    "print('Столица Чувашской Республики?')\n",
    "city = input().lower()\n",
    "if city == 'чебоксары':\n",
    "    print('Правильно')\n",
    "else:\n",
    "    print('Неправильно')"
   ]
  },
  {
   "cell_type": "code",
   "execution_count": null,
   "id": "60c8c827",
   "metadata": {},
   "outputs": [],
   "source": [
    "password = input()\n",
    "if password == '123456' or password == 'qwerty':\n",
    "    print('Плохой')\n",
    "else:\n",
    "    print('Хороший')"
   ]
  },
  {
   "cell_type": "code",
   "execution_count": null,
   "id": "1b4047dd",
   "metadata": {},
   "outputs": [],
   "source": [
    "num = int(input())\n",
    "coord1 = input()\n",
    "coord2 = int(input())\n",
    "fire1 = input()\n",
    "fire2 = int(input())\n",
    "if fire1 == coord1 and fire2 == coord2:\n",
    "    if num > 1:\n",
    "        print('Ранен')\n",
    "    else:\n",
    "        print('Убит')\n",
    "else:\n",
    "    print('Мимо')"
   ]
  },
  {
   "cell_type": "code",
   "execution_count": 3,
   "id": "ee7fc5bf",
   "metadata": {},
   "outputs": [
    {
     "name": "stdout",
     "output_type": "stream",
     "text": [
      "235\n",
      "False\n"
     ]
    }
   ],
   "source": [
    "found = True\n",
    "num = input()\n",
    "for i in num:\n",
    "    if int(i) % 2 == 0:\n",
    "        found = False\n",
    "print(found)"
   ]
  },
  {
   "cell_type": "code",
   "execution_count": 6,
   "id": "790a1a8c",
   "metadata": {},
   "outputs": [
    {
     "name": "stdout",
     "output_type": "stream",
     "text": [
      "1\n",
      "Зима\n"
     ]
    }
   ],
   "source": [
    "num = int(input())\n",
    "if num in (12, 1, 2):\n",
    "    print('Зима')\n",
    "elif num in (3, 4, 5):\n",
    "    print('Весна')\n",
    "elif num in (6, 7, 8):\n",
    "    print('Лето')\n",
    "elif num in (9, 10, 11):\n",
    "    print('Осень')\n",
    "else:\n",
    "    print('Ошибка')"
   ]
  },
  {
   "cell_type": "code",
   "execution_count": null,
   "id": "e2a2501d",
   "metadata": {},
   "outputs": [],
   "source": [
    "print('Столица Чувашской Республики?')\n",
    "city = input()\n",
    "if city == 'Чебоксары':\n",
    "    print('Правильно')\n",
    "elif city == 'чебоксары' or city == 'ЧЕБОКСАРЫ':\n",
    "    print('Правильно, но пишите пожалуйста название города с большой буквы')\n",
    "else:\n",
    "    print('Неправильно')"
   ]
  },
  {
   "cell_type": "code",
   "execution_count": null,
   "id": "56ead840",
   "metadata": {},
   "outputs": [],
   "source": [
    "a, b, c = int(input()), int(input()), int(input())\n",
    "d = b**2 - 4*a*c\n",
    "if d > 0:\n",
    "    print('Квадратное уравнение имеет два корня')\n",
    "elif d == 0:\n",
    "    print('Квадратное уравнение имеет один корень')\n",
    "else:\n",
    "    print('Квадратное уравнение не имеет корней')"
   ]
  },
  {
   "cell_type": "code",
   "execution_count": null,
   "id": "a1f21880",
   "metadata": {},
   "outputs": [],
   "source": [
    "string = input().split()\n",
    "found = 'Вегетарианский'\n",
    "for elem in string:\n",
    "    if elem in 'мясо':\n",
    "        found = 'Не вегетарианский'\n",
    "        break\n",
    "print(found)"
   ]
  },
  {
   "cell_type": "code",
   "execution_count": null,
   "id": "075bcf41",
   "metadata": {},
   "outputs": [],
   "source": [
    "password = input()\n",
    "if '123456' in password or 'qwerty' in password or 'йцукен' in password:\n",
    "    print('Плохой пароль')\n",
    "else:\n",
    "    print('Хороший пароль')"
   ]
  },
  {
   "cell_type": "code",
   "execution_count": null,
   "id": "9442e250",
   "metadata": {},
   "outputs": [],
   "source": [
    "a, b, c = input(), input(), input()\n",
    "found = 'По фен-шую'\n",
    "for i in (a, b, c):\n",
    "    if '4' in i or 'четыре' in i:\n",
    "        found = 'Не по фен-шую'\n",
    "        break\n",
    "print(found)"
   ]
  },
  {
   "cell_type": "code",
   "execution_count": 7,
   "id": "5fd7b035",
   "metadata": {},
   "outputs": [
    {
     "name": "stdout",
     "output_type": "stream",
     "text": [
      "1\n",
      "2\n",
      "2\n"
     ]
    }
   ],
   "source": [
    "a, b = int(input()), int(input())\n",
    "print(max(a, b))"
   ]
  },
  {
   "cell_type": "code",
   "execution_count": null,
   "id": "d2751765",
   "metadata": {},
   "outputs": [],
   "source": [
    "a, b, c = int(input()), int(input()), int(input())\n",
    "print(min(a, b, c))"
   ]
  },
  {
   "cell_type": "code",
   "execution_count": 8,
   "id": "98ebb0e2",
   "metadata": {},
   "outputs": [
    {
     "name": "stdout",
     "output_type": "stream",
     "text": [
      "ivan\n",
      "artem\n",
      "petr\n",
      "artem\n"
     ]
    }
   ],
   "source": [
    "str1, str2, str3 = input(), input(), input()\n",
    "print(min(str1, str2, str3))"
   ]
  },
  {
   "cell_type": "code",
   "execution_count": 9,
   "id": "ce3e5e0f",
   "metadata": {},
   "outputs": [
    {
     "name": "stdout",
     "output_type": "stream",
     "text": [
      "asd\n",
      "asdf\n",
      "asdfghj\n"
     ]
    },
    {
     "data": {
      "text/plain": [
       "7"
      ]
     },
     "execution_count": 9,
     "metadata": {},
     "output_type": "execute_result"
    }
   ],
   "source": [
    "str1, str2, str3 = input(), input(), input()\n",
    "maxlen = max(len(str1), len(str2), len(str3))\n",
    "for i in (str1, str2, str3):\n",
    "    if len(i) == maxlen:\n",
    "        print(i)\n",
    "        break"
   ]
  },
  {
   "cell_type": "code",
   "execution_count": null,
   "id": "98c0ce5d",
   "metadata": {},
   "outputs": [],
   "source": [
    "if int(input()) == 666:\n",
    "    print('Число зверя')\n",
    "else:\n",
    "    print('Не является числом зверя')"
   ]
  },
  {
   "cell_type": "code",
   "execution_count": 36,
   "id": "12fd5b58",
   "metadata": {},
   "outputs": [
    {
     "name": "stdout",
     "output_type": "stream",
     "text": [
      "-1\n",
      "-2\n",
      "0\n",
      "-2.0 -0.0\n"
     ]
    }
   ],
   "source": [
    "a, b, c = int(input()), int(input()), int(input())\n",
    "d = b**2 - 4*a*c\n",
    "if b == 0 and c < 0:\n",
    "    x1 = (-c / a)**0.5\n",
    "    x2 = -((-c / a)**0.5)\n",
    "    if x1 < x2:\n",
    "        print(round(x1, 1), round(x2, 1))\n",
    "    else:\n",
    "        print(round(x2, 1), round(x1, 1))\n",
    "elif a == 0:\n",
    "    x1 = -c / b\n",
    "    print(round(x1, 1))\n",
    "\n",
    "else:\n",
    "    if d > 0:\n",
    "        x1 = (-b + d**0.5) / (2*a)\n",
    "        x2 = (-b - d**0.5) / (2*a)\n",
    "        if x1 < x2:\n",
    "            print(round(x1, 1), round(x2, 1))\n",
    "        else:\n",
    "            print(round(x2, 1), round(x1, 1))\n",
    "    elif d == 0 and b != 0:\n",
    "        x1 = (-b + d**0.5) / (2*a)\n",
    "        print(x1)\n",
    "    else:\n",
    "        print('Квадратное уравнение не имеет корней')"
   ]
  },
  {
   "cell_type": "code",
   "execution_count": 18,
   "id": "aa02adfd",
   "metadata": {},
   "outputs": [
    {
     "name": "stdout",
     "output_type": "stream",
     "text": [
      "podlev@gmail.com\n",
      "Почта введена верно\n"
     ]
    }
   ],
   "source": [
    "string = input()\n",
    "if '@' in string and '.' in string:\n",
    "    print('Почта введена верно')\n",
    "elif '@' not in string and '.' not in string:\n",
    "    print('Отсутствует @ и .')\n",
    "elif '.' not in string:\n",
    "    print('Отсутствует .')\n",
    "else:\n",
    "    print('Отсутствует @')"
   ]
  },
  {
   "cell_type": "code",
   "execution_count": null,
   "id": "caff76f4",
   "metadata": {},
   "outputs": [],
   "source": [
    "a, b, c, d, e = int(input()), int(input()), int(input()), int(input()), int(input())\n",
    "print(max(a, b, c, d, e))\n",
    "print(min(a, b, c, d, e))"
   ]
  },
  {
   "cell_type": "code",
   "execution_count": 25,
   "id": "ecef7919",
   "metadata": {},
   "outputs": [
    {
     "name": "stdout",
     "output_type": "stream",
     "text": [
      "123006\n",
      "Счастливый\n"
     ]
    }
   ],
   "source": [
    "num = input()\n",
    "num = [int(i) for i in num]\n",
    "if sum(num[:3]) == sum(num[3:]):\n",
    "    print('Счастливый')\n",
    "else:\n",
    "    print('Обычный')"
   ]
  },
  {
   "cell_type": "code",
   "execution_count": null,
   "id": "bfb1e272",
   "metadata": {},
   "outputs": [],
   "source": [
    "a, b, c = int(input()), int(input()), input()\n",
    "if c == '+':\n",
    "    print(a + b)\n",
    "elif c == '-':\n",
    "    print(a - b)\n",
    "elif c == '*':\n",
    "    print(a * b)\n",
    "elif c == '**':\n",
    "    print(a ** b)\n",
    "elif c == '/' and b != 0:\n",
    "    print(a / b)\n",
    "else:\n",
    "    print('Ошибка')"
   ]
  },
  {
   "cell_type": "code",
   "execution_count": null,
   "id": "82291459",
   "metadata": {},
   "outputs": [],
   "source": []
  },
  {
   "cell_type": "code",
   "execution_count": 68,
   "id": "6765afa2",
   "metadata": {},
   "outputs": [
    {
     "name": "stdout",
     "output_type": "stream",
     "text": [
      "1\n",
      "-2\n",
      "-24\n",
      "-4.0 6.0\n"
     ]
    }
   ],
   "source": [
    "a, b, c = int(input()), int(input()), int(input())\n",
    "d = b**2 - 4*a*c\n",
    "if a != 0:\n",
    "    if b == 0 and c == 0:\n",
    "        print(0.0)\n",
    "    elif b == 0 and c != 0:\n",
    "        if -c / a > 0:\n",
    "            x = -c / a\n",
    "            print(round(-x, 1), round(x, 1))\n",
    "        else:\n",
    "            print('Квадратное уравнение не имеет корней')\n",
    "    elif b != 0 and c == 0:\n",
    "        x = -b / a\n",
    "        print(round(x, 1))\n",
    "    else:\n",
    "        if d > 0:\n",
    "            x1 = (-b + d**0.5) / (2*a)\n",
    "            x2 = (-b - d**0.5) / (2*a)\n",
    "            if x1 < x2:\n",
    "                print(round(x1, 1), round(x2, 1))\n",
    "            else:\n",
    "                print(round(x2, 1), round(x1, 1))\n",
    "        elif d == 0:\n",
    "            x1 = (-b + d**0.5) / (2*a)\n",
    "            print(round(x1, 1))\n",
    "        else:\n",
    "            print('Квадратное уравнение не имеет корней')\n",
    "else:\n",
    "    print('Квадратное уравнение не имеет корней')\n"
   ]
  },
  {
   "cell_type": "code",
   "execution_count": 44,
   "id": "4d889625",
   "metadata": {},
   "outputs": [
    {
     "data": {
      "text/plain": [
       "0.0"
      ]
     },
     "execution_count": 44,
     "metadata": {},
     "output_type": "execute_result"
    }
   ],
   "source": [
    "if b == 0 and c < 0:\n",
    "    x1 = (-c / a)**0.5\n",
    "    x2 = -((-c / a)**0.5)\n",
    "    if x1 < x2:\n",
    "        print(round(x1, 1), round(x2, 1))\n",
    "    else:\n",
    "        print(round(x2, 1), round(x1, 1))"
   ]
  },
  {
   "cell_type": "code",
   "execution_count": 56,
   "id": "c17140d3",
   "metadata": {},
   "outputs": [
    {
     "data": {
      "text/plain": [
       "2.0"
      ]
     },
     "execution_count": 56,
     "metadata": {},
     "output_type": "execute_result"
    }
   ],
   "source": [
    "4**0.5"
   ]
  },
  {
   "cell_type": "code",
   "execution_count": null,
   "id": "cd45fb46",
   "metadata": {},
   "outputs": [],
   "source": []
  }
 ],
 "metadata": {
  "kernelspec": {
   "display_name": "Python 3 (ipykernel)",
   "language": "python",
   "name": "python3"
  },
  "language_info": {
   "codemirror_mode": {
    "name": "ipython",
    "version": 3
   },
   "file_extension": ".py",
   "mimetype": "text/x-python",
   "name": "python",
   "nbconvert_exporter": "python",
   "pygments_lexer": "ipython3",
   "version": "3.9.7"
  }
 },
 "nbformat": 4,
 "nbformat_minor": 5
}
