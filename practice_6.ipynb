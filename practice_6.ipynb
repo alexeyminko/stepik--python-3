{
 "cells": [
  {
   "cell_type": "code",
   "execution_count": 4,
   "id": "9b03ae7d",
   "metadata": {},
   "outputs": [
    {
     "name": "stdout",
     "output_type": "stream",
     "text": [
      "1\n",
      "2\n",
      "3\n",
      "0\n",
      "6\n"
     ]
    }
   ],
   "source": [
    "i = int(input())\n",
    "mult = 1\n",
    "while i != 0:\n",
    "    mult *= i\n",
    "    i = int(input())\n",
    "print(mult)"
   ]
  },
  {
   "cell_type": "code",
   "execution_count": 5,
   "id": "a3acda42",
   "metadata": {},
   "outputs": [
    {
     "name": "stdout",
     "output_type": "stream",
     "text": [
      "3\n",
      "Куб числа 3 равен 27\n",
      "7\n",
      "Куб числа 7 равен 343\n",
      "-2\n",
      "Куб числа -2 равен -8\n",
      "0\n"
     ]
    }
   ],
   "source": [
    "i = int(input())\n",
    "while i != 0:\n",
    "    print(f'Куб числа {i} равен {i**3}')\n",
    "    i = int(input())"
   ]
  },
  {
   "cell_type": "code",
   "execution_count": null,
   "id": "648d9e00",
   "metadata": {},
   "outputs": [],
   "source": [
    "string = input()\n",
    "i = 1\n",
    "while string != ' ':\n",
    "    print(i, string)\n",
    "    i += 1\n",
    "    string = input()"
   ]
  },
  {
   "cell_type": "code",
   "execution_count": 6,
   "id": "4019b52d",
   "metadata": {},
   "outputs": [
    {
     "name": "stdout",
     "output_type": "stream",
     "text": [
      "1234\n",
      "10\n"
     ]
    }
   ],
   "source": [
    "print(sum([int(i) for i in input()]))"
   ]
  },
  {
   "cell_type": "code",
   "execution_count": 8,
   "id": "ec5d082d",
   "metadata": {},
   "outputs": [
    {
     "name": "stdout",
     "output_type": "stream",
     "text": [
      "90005\n",
      "59\n"
     ]
    }
   ],
   "source": [
    "print(*[i for i in input()[::-1] if i != '0'], sep='')"
   ]
  },
  {
   "cell_type": "code",
   "execution_count": 9,
   "id": "0011769d",
   "metadata": {},
   "outputs": [
    {
     "name": "stdout",
     "output_type": "stream",
     "text": [
      "777025677\n",
      "5\n"
     ]
    }
   ],
   "source": [
    "print(input().count('7'))"
   ]
  },
  {
   "cell_type": "code",
   "execution_count": 13,
   "id": "af1de27e",
   "metadata": {},
   "outputs": [
    {
     "name": "stdout",
     "output_type": "stream",
     "text": [
      "406\n",
      "False\n"
     ]
    }
   ],
   "source": [
    "num = input()\n",
    "st = len(num)\n",
    "print(sum([int(i)**st for i in num]) == int(num))\n"
   ]
  },
  {
   "cell_type": "code",
   "execution_count": 14,
   "id": "f0f69e22",
   "metadata": {},
   "outputs": [
    {
     "name": "stdout",
     "output_type": "stream",
     "text": [
      "6\n",
      "441\n"
     ]
    }
   ],
   "source": [
    "n = int(input())\n",
    "total = 0\n",
    "for i in range(1, n + 1):\n",
    "    total += i**3\n",
    "    if total > 10000:\n",
    "        break\n",
    "if total > 10000:\n",
    "    print(10000)\n",
    "else:\n",
    "    print(total)   "
   ]
  },
  {
   "cell_type": "code",
   "execution_count": 16,
   "id": "9ca7c6c9",
   "metadata": {},
   "outputs": [
    {
     "name": "stdout",
     "output_type": "stream",
     "text": [
      "11111121\n",
      "False\n"
     ]
    }
   ],
   "source": [
    "print(len({i for i in input()}) == 1)"
   ]
  },
  {
   "cell_type": "code",
   "execution_count": null,
   "id": "0ae5f5b6",
   "metadata": {},
   "outputs": [],
   "source": [
    "n1 = int(input())\n",
    "count = 1\n",
    "while True:\n",
    "    n2 = int(input())\n",
    "    if n2 < n1:\n",
    "        break\n",
    "    else:\n",
    "        count += 1\n",
    "        n1 = n2\n",
    "print(count)"
   ]
  },
  {
   "cell_type": "code",
   "execution_count": null,
   "id": "04d47a00",
   "metadata": {},
   "outputs": [],
   "source": [
    "print('Купи слона!')\n",
    "while True:\n",
    "    string = input()\n",
    "    if string == 'Я куплю слона.':\n",
    "        break\n",
    "    else:\n",
    "        print('Все так говорят. А ты купи слона!')\n",
    "print('Вот и ладушки.')"
   ]
  },
  {
   "cell_type": "code",
   "execution_count": null,
   "id": "338d49b6",
   "metadata": {},
   "outputs": [],
   "source": [
    "n = int(input())\n",
    "found = 'простое'\n",
    "for i in range(2, n):\n",
    "    if n % i == 0:\n",
    "        found = 'составное'\n",
    "        break\n",
    "print(f'Число {n} - {found}')"
   ]
  },
  {
   "cell_type": "code",
   "execution_count": 22,
   "id": "c1b3bb09",
   "metadata": {},
   "outputs": [
    {
     "name": "stdout",
     "output_type": "stream",
     "text": [
      "21\n",
      "15\n",
      "3\n",
      "4\n"
     ]
    }
   ],
   "source": [
    "a, b = int(input()), int(input())\n",
    "count = 0\n",
    "while a != b:\n",
    "    if a > b:\n",
    "        count += 1\n",
    "        a -= b\n",
    "    else:\n",
    "        count += 1\n",
    "        b -= a\n",
    "print(a, count, sep='\\n')     "
   ]
  },
  {
   "cell_type": "code",
   "execution_count": 21,
   "id": "973af0a4",
   "metadata": {},
   "outputs": [
    {
     "name": "stdout",
     "output_type": "stream",
     "text": [
      "21\n",
      "15\n",
      "3\n",
      "3\n"
     ]
    }
   ],
   "source": [
    "a, b = int(input()), int(input())\n",
    "count = 0\n",
    "while a != 0 and b != 0:\n",
    "    if a > b:\n",
    "        count += 1\n",
    "        a %= b\n",
    "    else:\n",
    "        count += 1\n",
    "        b %= a\n",
    "print(max(a, b), count, sep='\\n')"
   ]
  },
  {
   "cell_type": "code",
   "execution_count": 26,
   "id": "6b7f48aa",
   "metadata": {},
   "outputs": [
    {
     "name": "stdout",
     "output_type": "stream",
     "text": [
      "21\n",
      "15\n",
      "0 3\n",
      "7\n",
      "5\n"
     ]
    }
   ],
   "source": [
    "n1, n2 = int(input()), int(input())\n",
    "a, b = n1, n2\n",
    "while a != 0 and b != 0:\n",
    "    if a > b:\n",
    "        a %= b\n",
    "    else:\n",
    "        b %= a\n",
    "print(n1 // max(a, b), n2 // max(a,b), sep='\\n')"
   ]
  },
  {
   "cell_type": "code",
   "execution_count": 27,
   "id": "7dda0464",
   "metadata": {},
   "outputs": [
    {
     "name": "stdout",
     "output_type": "stream",
     "text": [
      "18\n",
      "30\n",
      "45\n",
      "3\n"
     ]
    }
   ],
   "source": [
    "a, b, c = int(input()), int(input()), int(input())\n",
    "while a != 0 and b != 0:\n",
    "    if a > b:\n",
    "        a %= b\n",
    "    else:\n",
    "        b %= a\n",
    "a = max(a, b)\n",
    "while a != 0 and c != 0:\n",
    "    if a > c:\n",
    "        a %= c\n",
    "    else:\n",
    "        c %= a\n",
    "print(max(a, c))"
   ]
  },
  {
   "cell_type": "code",
   "execution_count": 33,
   "id": "3b0473a0",
   "metadata": {},
   "outputs": [
    {
     "name": "stdout",
     "output_type": "stream",
     "text": [
      "podlev@gmailcom\n",
      "Отсутствует .\n",
      "podlevgmail.com\n",
      "Отсутствует @\n",
      "podlev@gmail.com\n",
      "Почта введена верно\n"
     ]
    }
   ],
   "source": [
    "email = input()\n",
    "while True:\n",
    "    if '@' in email and '.' in email:\n",
    "        print('Почта введена верно')\n",
    "        break\n",
    "    elif '@' not in email and '.' not in email:\n",
    "        print('Отсутствует @ и .')\n",
    "        email = input()\n",
    "    elif '.' not in email:\n",
    "        print('Отсутствует .')\n",
    "        email = input()\n",
    "    else:\n",
    "        print('Отсутствует @')\n",
    "        email = input()\n",
    "    "
   ]
  },
  {
   "cell_type": "code",
   "execution_count": 34,
   "id": "ef88bb89",
   "metadata": {},
   "outputs": [
    {
     "name": "stdout",
     "output_type": "stream",
     "text": [
      "80\n",
      "25\n",
      "400\n"
     ]
    }
   ],
   "source": [
    "n1, n2 = int(input()), int(input())\n",
    "a, b = n1, n2\n",
    "while a != 0 and b != 0:\n",
    "    if a > b:\n",
    "        a %= b\n",
    "    else:\n",
    "        b %= a\n",
    "print(n1 * n2 // max(a, b))"
   ]
  },
  {
   "cell_type": "code",
   "execution_count": 36,
   "id": "515faace",
   "metadata": {},
   "outputs": [
    {
     "name": "stdout",
     "output_type": "stream",
     "text": [
      "5\n",
      "8\n",
      "1\n",
      "8\n",
      "3\n",
      "4\n"
     ]
    }
   ],
   "source": [
    "n1, n2, n3, n4 = int(input()), int(input()), int(input()), int(input())\n",
    "a = num1 = n1*n4 + n3*n2\n",
    "b = num2 = n2*n4\n",
    "while a != 0 and b != 0:\n",
    "    if a > b:\n",
    "        a %= b\n",
    "    else:\n",
    "        b %= a\n",
    "print(num1 // max(a, b), num2 // max(a,b), sep='\\n')"
   ]
  },
  {
   "cell_type": "code",
   "execution_count": 38,
   "id": "6c57c5e1",
   "metadata": {},
   "outputs": [
    {
     "name": "stdout",
     "output_type": "stream",
     "text": [
      "100900\n",
      "9001\n"
     ]
    }
   ],
   "source": [
    "print(int(input()[::-1]))"
   ]
  },
  {
   "cell_type": "code",
   "execution_count": 40,
   "id": "071ac979",
   "metadata": {},
   "outputs": [
    {
     "name": "stdout",
     "output_type": "stream",
     "text": [
      "hello\n",
      "world\n",
      "oh, my god\n",
      " \n",
      "oh, my god\n"
     ]
    }
   ],
   "source": [
    "string = input()\n",
    "lenght = res = 0\n",
    "while string != ' ':\n",
    "    if len(string) > lenght:\n",
    "        lenght, res = len(string), string\n",
    "    string = input()\n",
    "print(res)\n",
    "    "
   ]
  },
  {
   "cell_type": "code",
   "execution_count": null,
   "id": "47ec8ba6",
   "metadata": {},
   "outputs": [],
   "source": [
    "while True:\n",
    "    user = input()\n",
    "    if 'привет' in user or 'здравствуйте' in user or 'хай' in user:\n",
    "        print('Привет, чем могу помочь?')\n",
    "    elif 'пока' in user or 'до свидания' in user or 'бай' in user:\n",
    "        print('Пока, пишите если нужна помощь.')\n",
    "    elif 'умеешь' in user or 'можешь' in user:\n",
    "        print('Я чат-бот, умею отвечать на вопросы.')\n",
    "    elif 'погода' in user:\n",
    "        print('Сегодня в Чебоксарах отличная погода.')\n",
    "    elif 'выход' in user or 'выключить' in user or 'завершить' in user:\n",
    "        break\n",
    "        \n",
    "        "
   ]
  },
  {
   "cell_type": "code",
   "execution_count": 46,
   "id": "1641f836",
   "metadata": {},
   "outputs": [
    {
     "name": "stdout",
     "output_type": "stream",
     "text": [
      "625\n",
      "625 390625\n"
     ]
    }
   ],
   "source": [
    "n = int(input())\n",
    "n2 = n**2\n",
    "if str(n) == str(n2)[len(str(n2)) - len(str(n)):]:\n",
    "    print(n, n2)\n",
    "else:\n",
    "    print(0)"
   ]
  }
 ],
 "metadata": {
  "kernelspec": {
   "display_name": "Python 3 (ipykernel)",
   "language": "python",
   "name": "python3"
  },
  "language_info": {
   "codemirror_mode": {
    "name": "ipython",
    "version": 3
   },
   "file_extension": ".py",
   "mimetype": "text/x-python",
   "name": "python",
   "nbconvert_exporter": "python",
   "pygments_lexer": "ipython3",
   "version": "3.9.7"
  }
 },
 "nbformat": 4,
 "nbformat_minor": 5
}
