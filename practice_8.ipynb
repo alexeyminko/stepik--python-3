{
 "cells": [
  {
   "cell_type": "code",
   "execution_count": 4,
   "id": "04e82435",
   "metadata": {},
   "outputs": [
    {
     "name": "stdout",
     "output_type": "stream",
     "text": [
      "22\n",
      "2\n",
      "Денис страдает\n"
     ]
    }
   ],
   "source": [
    "h, d = int(input()), int(input())\n",
    "if h + d <= 23 and h > 7:\n",
    "    print('Денис хорошо работает')\n",
    "else:\n",
    "    print('Денис страдает')"
   ]
  },
  {
   "cell_type": "code",
   "execution_count": 7,
   "id": "d55d791a",
   "metadata": {},
   "outputs": [
    {
     "name": "stdout",
     "output_type": "stream",
     "text": [
      "3\n",
      "8\n",
      "33\n"
     ]
    }
   ],
   "source": [
    "a, b = int(input()), int(input())\n",
    "if (b - a) % 2 == 0:\n",
    "    total = (a + b) * ((b - a) // 2) + ((a + b) // 2)\n",
    "else:\n",
    "    total = (a + b) * ((b - a) // 2 + 1)\n",
    "print(total)"
   ]
  },
  {
   "cell_type": "code",
   "execution_count": null,
   "id": "e8c6f3ab",
   "metadata": {},
   "outputs": [],
   "source": [
    "x, n = int(input()), int(input())\n",
    "print(x + n*4)"
   ]
  },
  {
   "cell_type": "code",
   "execution_count": 20,
   "id": "7f69d01e",
   "metadata": {},
   "outputs": [
    {
     "name": "stdout",
     "output_type": "stream",
     "text": [
      "40586\n",
      "40586 не равно 4! + 0! + 5! + 8! + 6!"
     ]
    }
   ],
   "source": [
    "num = input()\n",
    "from math import *\n",
    "found = 'не равно'\n",
    "total = sum([factorial(int(i)) for i in num])    \n",
    "if total == int(num):\n",
    "    found = '='\n",
    "print(f'{num} {found}', end =' ')\n",
    "print(*num, sep='! + ', end='!')"
   ]
  },
  {
   "cell_type": "code",
   "execution_count": 21,
   "id": "ff41f492",
   "metadata": {},
   "outputs": [
    {
     "name": "stdout",
     "output_type": "stream",
     "text": [
      "60\n",
      "72\n",
      "11\n"
     ]
    }
   ],
   "source": [
    "m, n = int(input()), int(input())\n",
    "\n",
    "a, b = m, n\n",
    "while a != 0 and b != 0:\n",
    "    if a > b:\n",
    "        a %= b\n",
    "    else:\n",
    "        b %= a\n",
    "count = a + b\n",
    "print((m + n) // count)"
   ]
  },
  {
   "cell_type": "code",
   "execution_count": null,
   "id": "fa8c24f2",
   "metadata": {},
   "outputs": [],
   "source": [
    "while True:\n",
    "    phone = input()\n",
    "    if '777' in phone and '7777' not in phone and sum([int(i) for i in phone]) % 7 == 0:\n",
    "        print(phone)\n",
    "        break\n",
    "    else:\n",
    "        continue\n",
    "        \n",
    "            "
   ]
  },
  {
   "cell_type": "code",
   "execution_count": null,
   "id": "ca421134",
   "metadata": {},
   "outputs": [],
   "source": []
  },
  {
   "cell_type": "code",
   "execution_count": null,
   "id": "eb50bdaf",
   "metadata": {},
   "outputs": [],
   "source": []
  }
 ],
 "metadata": {
  "kernelspec": {
   "display_name": "Python 3 (ipykernel)",
   "language": "python",
   "name": "python3"
  },
  "language_info": {
   "codemirror_mode": {
    "name": "ipython",
    "version": 3
   },
   "file_extension": ".py",
   "mimetype": "text/x-python",
   "name": "python",
   "nbconvert_exporter": "python",
   "pygments_lexer": "ipython3",
   "version": "3.9.7"
  }
 },
 "nbformat": 4,
 "nbformat_minor": 5
}
