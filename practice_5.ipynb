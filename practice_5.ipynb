{
 "cells": [
  {
   "cell_type": "code",
   "execution_count": 2,
   "id": "4462e147",
   "metadata": {},
   "outputs": [
    {
     "name": "stdout",
     "output_type": "stream",
     "text": [
      "10\n",
      "9 6 3 "
     ]
    }
   ],
   "source": [
    "for i in range(int(input()) - 1, 0, -3):\n",
    "    print(i, end=' ')"
   ]
  },
  {
   "cell_type": "code",
   "execution_count": 6,
   "id": "c74d222a",
   "metadata": {},
   "outputs": [
    {
     "name": "stdout",
     "output_type": "stream",
     "text": [
      "6\n",
      "3\n",
      "3 4 5 6 \n",
      "6 5 4 3 "
     ]
    }
   ],
   "source": [
    "a, b = int(input()), int(input())\n",
    "if a < b:\n",
    "    for i in range(a, b + 1):\n",
    "        print(i, end=' ')\n",
    "    print()\n",
    "    for i in range(b, a - 1, -1):\n",
    "        print(i, end=' ')\n",
    "else:\n",
    "    for i in range(b, a + 1):\n",
    "        print(i, end=' ')\n",
    "    print()\n",
    "    for i in range(a, b - 1, -1):\n",
    "        print(i, end=' ')"
   ]
  },
  {
   "cell_type": "code",
   "execution_count": 9,
   "id": "e64f57af",
   "metadata": {},
   "outputs": [
    {
     "name": "stdout",
     "output_type": "stream",
     "text": [
      "14 28 42 56 70 84 98 "
     ]
    }
   ],
   "source": [
    "for i in range(14, 100, 7):\n",
    "    if i % 2 == 0:\n",
    "        print(i, end=' ') "
   ]
  },
  {
   "cell_type": "code",
   "execution_count": 10,
   "id": "45042894",
   "metadata": {},
   "outputs": [
    {
     "name": "stdout",
     "output_type": "stream",
     "text": [
      "101 111 121 131 141 151 161 171 181 191 202 212 222 232 242 252 262 272 282 292 303 313 323 333 343 353 363 373 383 393 404 414 424 434 444 454 464 474 484 494 505 515 525 535 545 555 565 575 585 595 606 616 626 636 646 656 666 676 686 696 707 717 727 737 747 757 767 777 787 797 808 818 828 838 848 858 868 878 888 898 909 919 929 939 949 959 969 979 989 999 "
     ]
    }
   ],
   "source": [
    "for i in range(101, 1000):\n",
    "    if i // 100 == i % 10:\n",
    "        print(i, end=' ')"
   ]
  },
  {
   "cell_type": "code",
   "execution_count": 12,
   "id": "778d5aa4",
   "metadata": {},
   "outputs": [
    {
     "name": "stdout",
     "output_type": "stream",
     "text": [
      "6\n",
      "1\n",
      "2\n",
      "3\n",
      "6\n"
     ]
    }
   ],
   "source": [
    "num = int(input())\n",
    "for i in range(1, num + 1):\n",
    "    if num % i == 0:\n",
    "        print(i)"
   ]
  },
  {
   "cell_type": "code",
   "execution_count": null,
   "id": "34c3d9e2",
   "metadata": {},
   "outputs": [],
   "source": [
    "num = int(input())\n",
    "total = 0\n",
    "for i in range(num):\n",
    "    i = int(input())\n",
    "    total += i\n",
    "print(total)"
   ]
  },
  {
   "cell_type": "code",
   "execution_count": null,
   "id": "0e5047ba",
   "metadata": {},
   "outputs": [],
   "source": [
    "num = int(input())\n",
    "total = 0\n",
    "for i in range(num):\n",
    "    i = int(input())\n",
    "    if i % 2 == 0:\n",
    "        total += i\n",
    "print(total)"
   ]
  },
  {
   "cell_type": "code",
   "execution_count": null,
   "id": "91143c3e",
   "metadata": {},
   "outputs": [],
   "source": [
    "num = int(input())\n",
    "multipl = 1\n",
    "for i in range(num):\n",
    "    i = int(input())\n",
    "    if i % 10 % 2 == 1:\n",
    "        multipl *= i % 10\n",
    "print(multipl)"
   ]
  },
  {
   "cell_type": "code",
   "execution_count": 13,
   "id": "73ac1a26",
   "metadata": {},
   "outputs": [
    {
     "name": "stdout",
     "output_type": "stream",
     "text": [
      "5\n",
      "15\n"
     ]
    }
   ],
   "source": [
    "print(sum([i for i in range(1, int(input()) + 1)]))"
   ]
  },
  {
   "cell_type": "code",
   "execution_count": 15,
   "id": "1df18bb0",
   "metadata": {},
   "outputs": [
    {
     "name": "stdout",
     "output_type": "stream",
     "text": [
      "5\n"
     ]
    },
    {
     "data": {
      "text/plain": [
       "120"
      ]
     },
     "execution_count": 15,
     "metadata": {},
     "output_type": "execute_result"
    }
   ],
   "source": [
    "import math\n",
    "print(math.factorial(int(input())))"
   ]
  },
  {
   "cell_type": "code",
   "execution_count": 17,
   "id": "801b8099",
   "metadata": {},
   "outputs": [
    {
     "name": "stdout",
     "output_type": "stream",
     "text": [
      "4\n",
      "-2\n"
     ]
    }
   ],
   "source": [
    "num = int(input())\n",
    "if num % 2 == 0:\n",
    "    print(-1 * (num // 2))\n",
    "else:\n",
    "    print((-1 * (num // 2)) + num)"
   ]
  },
  {
   "cell_type": "code",
   "execution_count": 18,
   "id": "2810c0b7",
   "metadata": {},
   "outputs": [
    {
     "name": "stdout",
     "output_type": "stream",
     "text": [
      "6\n",
      "1 2 3 6 \n",
      "4\n"
     ]
    }
   ],
   "source": [
    "num = int(input())\n",
    "count = 0\n",
    "for i in range(1, num + 1):\n",
    "    if num % i == 0:\n",
    "        count += 1\n",
    "        print(i, end=' ')\n",
    "print()\n",
    "print(count)"
   ]
  },
  {
   "cell_type": "code",
   "execution_count": null,
   "id": "0ff00dff",
   "metadata": {},
   "outputs": [],
   "source": [
    "minnum = int(input())\n",
    "for i in range(9):\n",
    "    i = int(input())\n",
    "    if minnum > i:\n",
    "        minnum = i\n",
    "print(minnum)"
   ]
  },
  {
   "cell_type": "code",
   "execution_count": null,
   "id": "3c60edc9",
   "metadata": {},
   "outputs": [],
   "source": [
    "maxstr = input()\n",
    "for i in range(9):\n",
    "    i = input()\n",
    "    if maxstr < i:\n",
    "        maxstr = i\n",
    "print(maxstr)"
   ]
  },
  {
   "cell_type": "code",
   "execution_count": null,
   "id": "68bc2efe",
   "metadata": {},
   "outputs": [],
   "source": [
    "minnum = int(input())\n",
    "index = 1\n",
    "for j in range(2, 9 + 2):\n",
    "    i = int(input())\n",
    "    if minnum > i:\n",
    "        minnum = i\n",
    "        index = j\n",
    "print(index)\n",
    "        "
   ]
  },
  {
   "cell_type": "code",
   "execution_count": null,
   "id": "a25eea98",
   "metadata": {},
   "outputs": [],
   "source": [
    "minnum = int(input())\n",
    "index = 1\n",
    "for j in range(2, 9 + 2):\n",
    "    i = int(input())\n",
    "    if minnum >= i:\n",
    "        minnum = i\n",
    "        index = j\n",
    "print(index)"
   ]
  },
  {
   "cell_type": "code",
   "execution_count": null,
   "id": "2094b923",
   "metadata": {},
   "outputs": [],
   "source": [
    "num = int(input())\n",
    "string = ''\n",
    "lenstr = 0\n",
    "for i in range(num):\n",
    "    i = input()\n",
    "    if len(i) > lenstr:\n",
    "        string = i\n",
    "        lenstr = len(i)\n",
    "print(string)"
   ]
  },
  {
   "cell_type": "code",
   "execution_count": 19,
   "id": "010f23e4",
   "metadata": {},
   "outputs": [
    {
     "name": "stdout",
     "output_type": "stream",
     "text": [
      "3\n",
      "2\n",
      "2 2 2 "
     ]
    }
   ],
   "source": [
    "n, k = int(input()), int(input())\n",
    "for i in range(n):\n",
    "    print(k, end=' ')"
   ]
  },
  {
   "cell_type": "code",
   "execution_count": 21,
   "id": "b3117d89",
   "metadata": {},
   "outputs": [
    {
     "name": "stdout",
     "output_type": "stream",
     "text": [
      "2\n",
      "5\n",
      "2 3 4 5 \n",
      "4\n"
     ]
    }
   ],
   "source": [
    "a, b = int(input()), int(input())\n",
    "for i in range(a, b + 1):\n",
    "    print(i, end=' ')\n",
    "print()\n",
    "print(b - a + 1)"
   ]
  },
  {
   "cell_type": "code",
   "execution_count": null,
   "id": "e51da06f",
   "metadata": {},
   "outputs": [],
   "source": [
    "n, string = int(input()), input()\n",
    "for i in range(n, 1, -1):\n",
    "    if i in [10, 9, 8, 7, 6, 5]:\n",
    "        print(f'Осталось {i} секунд')\n",
    "    elif i in [4, 3, 2]:\n",
    "        print(f'Осталось {i} секунды')\n",
    "print('Осталось 1 секунда')\n",
    "print(string)"
   ]
  },
  {
   "cell_type": "code",
   "execution_count": 29,
   "id": "dfade333",
   "metadata": {},
   "outputs": [
    {
     "name": "stdout",
     "output_type": "stream",
     "text": [
      "5\n",
      "Число 5 - простое\n"
     ]
    }
   ],
   "source": [
    "n = int(input())\n",
    "number = 'простое'\n",
    "for i in range(2, n):\n",
    "    if n % i == 0:\n",
    "        number = 'составное'\n",
    "        break\n",
    "print(f'Число {n} - {number}')"
   ]
  },
  {
   "cell_type": "code",
   "execution_count": 32,
   "id": "97b13da1",
   "metadata": {},
   "outputs": [
    {
     "name": "stdout",
     "output_type": "stream",
     "text": [
      "7\n",
      "0\n"
     ]
    }
   ],
   "source": [
    "n = int(input())\n",
    "total = [1]\n",
    "for i in range(2, n):\n",
    "    if n % i == 0:\n",
    "        total.append(i)\n",
    "if sum(total) == n:\n",
    "    print(*total)\n",
    "else:\n",
    "    print(0)"
   ]
  },
  {
   "cell_type": "code",
   "execution_count": null,
   "id": "14381fd6",
   "metadata": {},
   "outputs": [],
   "source": [
    "minimum = 100\n",
    "for i in range(10):\n",
    "    i = int(input())\n",
    "    if 9 < i < 100 and minimum > i:\n",
    "        minimum = i\n",
    "if minimum == 100:\n",
    "    print(-1)\n",
    "else:\n",
    "    print(minimum)"
   ]
  },
  {
   "cell_type": "code",
   "execution_count": 36,
   "id": "8c1ec514",
   "metadata": {},
   "outputs": [
    {
     "name": "stdout",
     "output_type": "stream",
     "text": [
      "15\n",
      "0\n",
      "00:15:00\n",
      "01:15:00\n",
      "02:15:00\n",
      "03:15:00\n",
      "04:15:00\n",
      "05:15:00\n",
      "06:15:00\n",
      "07:15:00\n",
      "08:15:00\n",
      "09:15:00\n",
      "10:15:00\n",
      "11:15:00\n",
      "12:15:00\n",
      "13:15:00\n",
      "14:15:00\n",
      "15:15:00\n",
      "16:15:00\n",
      "17:15:00\n",
      "18:15:00\n",
      "19:15:00\n",
      "20:15:00\n",
      "21:15:00\n",
      "22:15:00\n",
      "23:15:00\n"
     ]
    }
   ],
   "source": [
    "m, s = input(), input()\n",
    "for i in range(24):\n",
    "    a = str(i)\n",
    "    print(f\"{'0'*(2 - len(a)) + a}:{'0'*(2 - len(m)) + m}:{'0'*(2 - len(s)) + s}\")"
   ]
  },
  {
   "cell_type": "code",
   "execution_count": null,
   "id": "6802265e",
   "metadata": {},
   "outputs": [],
   "source": [
    "num = [int(input()) for i in range(10)]\n",
    "min1 = min(num)\n",
    "min2 = max(num)\n",
    "for elem in num:\n",
    "    if min1 < elem < min2:\n",
    "        min2 = elem\n",
    "if num.count(min1) == 2:\n",
    "    min2 = min1\n",
    "\n",
    "print(min1)\n",
    "print(min2)"
   ]
  },
  {
   "cell_type": "code",
   "execution_count": 46,
   "id": "40a07a51",
   "metadata": {},
   "outputs": [
    {
     "name": "stdout",
     "output_type": "stream",
     "text": [
      "8\n",
      "1 1 2 3 5 8 13 21 "
     ]
    }
   ],
   "source": [
    "pre = prepre = 1\n",
    "\n",
    "n = int(input())\n",
    "for i in range(1, n + 1):\n",
    "    if i < 3:\n",
    "        print(1, end=' ')\n",
    "    else:\n",
    "        print(pre + prepre, end=' ')\n",
    "        prepre, pre = pre, pre + prepre\n",
    "        \n",
    "        "
   ]
  }
 ],
 "metadata": {
  "kernelspec": {
   "display_name": "Python 3 (ipykernel)",
   "language": "python",
   "name": "python3"
  },
  "language_info": {
   "codemirror_mode": {
    "name": "ipython",
    "version": 3
   },
   "file_extension": ".py",
   "mimetype": "text/x-python",
   "name": "python",
   "nbconvert_exporter": "python",
   "pygments_lexer": "ipython3",
   "version": "3.9.7"
  }
 },
 "nbformat": 4,
 "nbformat_minor": 5
}
