{
 "cells": [
  {
   "cell_type": "code",
   "execution_count": 1,
   "id": "1f8d228c",
   "metadata": {},
   "outputs": [
    {
     "name": "stdout",
     "output_type": "stream",
     "text": [
      "5\n",
      "*\n",
      "**\n",
      "***\n",
      "****\n",
      "*****\n"
     ]
    }
   ],
   "source": [
    "n = int(input())\n",
    "for i in range(1, n + 1):\n",
    "    print('*'*i)"
   ]
  },
  {
   "cell_type": "code",
   "execution_count": 3,
   "id": "99850c36",
   "metadata": {},
   "outputs": [
    {
     "name": "stdout",
     "output_type": "stream",
     "text": [
      "2\n",
      "3\n",
      "@\n",
      "@@@\n",
      "@@@\n"
     ]
    }
   ],
   "source": [
    "n, m, s = int(input()), int(input()), input()\n",
    "for i in range(1, n + 1):\n",
    "    print(s*m)"
   ]
  },
  {
   "cell_type": "code",
   "execution_count": 4,
   "id": "88d84217",
   "metadata": {},
   "outputs": [
    {
     "name": "stdout",
     "output_type": "stream",
     "text": [
      "5\n",
      "1\n",
      "12\n",
      "123\n",
      "1234\n",
      "12345\n"
     ]
    }
   ],
   "source": [
    "n = int(input())\n",
    "for i in range(1, n + 1):\n",
    "    for j in range(1, i + 1):\n",
    "        print(j, end='')\n",
    "    print()"
   ]
  },
  {
   "cell_type": "code",
   "execution_count": 10,
   "id": "24e3547d",
   "metadata": {},
   "outputs": [
    {
     "name": "stdout",
     "output_type": "stream",
     "text": [
      "2\n",
      "2\n",
      "@\n",
      "@@\n",
      "@@\n"
     ]
    }
   ],
   "source": [
    "n, m, s = int(input()), int(input()), input()\n",
    "print(s*m)\n",
    "for i in range(n - 2):\n",
    "    print(s + ' '*(m - 2) + s)\n",
    "if n > 1:\n",
    "    print(s*m)"
   ]
  },
  {
   "cell_type": "code",
   "execution_count": 11,
   "id": "640c4b12",
   "metadata": {},
   "outputs": [
    {
     "name": "stdout",
     "output_type": "stream",
     "text": [
      "50\n",
      "2 3 5 7 11 13 17 19 23 29 31 37 41 43 47 "
     ]
    }
   ],
   "source": [
    "n = int(input())\n",
    "for i in range(2, n + 1):\n",
    "    count = 0\n",
    "    for j in range(2, i):\n",
    "        if i % j == 0:\n",
    "            count += 1\n",
    "    if count == 0:\n",
    "        print(i, end=' ')\n"
   ]
  },
  {
   "cell_type": "code",
   "execution_count": 15,
   "id": "d134b087",
   "metadata": {},
   "outputs": [
    {
     "name": "stdout",
     "output_type": "stream",
     "text": [
      "4\n",
      "33\n"
     ]
    }
   ],
   "source": [
    "n = int(input())\n",
    "import math\n",
    "total = 0\n",
    "for i in range(1, n + 1):\n",
    "    total += math.factorial(i)\n",
    "print(total)"
   ]
  },
  {
   "cell_type": "code",
   "execution_count": 17,
   "id": "2459c8b8",
   "metadata": {},
   "outputs": [
    {
     "name": "stdout",
     "output_type": "stream",
     "text": [
      "5\n",
      "5\n",
      "54\n",
      "543\n",
      "5432\n",
      "54321\n"
     ]
    }
   ],
   "source": [
    "n = int(input())\n",
    "for i in range(n, 0, -1):\n",
    "    for j in range(n, i - 1, -1):\n",
    "        print(j, end='')\n",
    "    print()"
   ]
  },
  {
   "cell_type": "code",
   "execution_count": 18,
   "id": "e40051fe",
   "metadata": {},
   "outputs": [
    {
     "name": "stdout",
     "output_type": "stream",
     "text": [
      "5\n",
      "1\n",
      "23\n",
      "456\n",
      "78910\n",
      "1112131415\n"
     ]
    }
   ],
   "source": [
    "n = int(input())\n",
    "number = 1\n",
    "for i in range(1, n + 1):\n",
    "    for j in range(1, i + 1):\n",
    "        print(number, end='')\n",
    "        number += 1\n",
    "    print()"
   ]
  },
  {
   "cell_type": "code",
   "execution_count": 24,
   "id": "9fb70927",
   "metadata": {},
   "outputs": [
    {
     "name": "stdout",
     "output_type": "stream",
     "text": [
      "456\n",
      "6\n"
     ]
    }
   ],
   "source": [
    "n = int(input())\n",
    "while n > 9:\n",
    "    total = 0\n",
    "    while n > 0:\n",
    "        total += (n % 10)\n",
    "        n //= 10\n",
    "    n = total\n",
    "print(total)"
   ]
  },
  {
   "cell_type": "code",
   "execution_count": 22,
   "id": "b554cbc4",
   "metadata": {},
   "outputs": [
    {
     "data": {
      "text/plain": [
       "45"
      ]
     },
     "execution_count": 22,
     "metadata": {},
     "output_type": "execute_result"
    }
   ],
   "source": [
    "n = int(input())\n",
    "max_total = max_num = 0\n",
    "while n > 0:\n",
    "    num = n\n",
    "    total = 0\n",
    "    while num > 0:\n",
    "        total += (num % 10)\n",
    "        num //= 10\n",
    "    if total > max_total:\n",
    "        max_total = total\n",
    "        max_num = n\n",
    "    n = int(input())\n",
    "print(max_num)"
   ]
  },
  {
   "cell_type": "code",
   "execution_count": 101,
   "id": "43727a01",
   "metadata": {},
   "outputs": [],
   "source": [
    "def nm_66(n, m):\n",
    "    print('#' * m)\n",
    "    print('#' + '@' * (m - 2) + '#')\n",
    "    print('#@!' + ' ' * (m - 6) + '!@#')\n",
    "    for i in range(n - 6):\n",
    "        print('#@' + ' ' * (m - 4) + '@#')\n",
    "    print('#@!' + ' ' * (m - 6) + '!@#')\n",
    "    print('#' + '@' * (m - 2) + '#')\n",
    "    print('#' * m)\n",
    "    \n",
    "def nm_2x(n, m):\n",
    "    for i in range(n):\n",
    "        print('#' * m)\n",
    "        \n",
    "def nm_4x(n, m):\n",
    "    print('#' * m)\n",
    "    for i in range(n - 2):\n",
    "        print('#' + '@' * (m - 2) + '#')\n",
    "    print('#' * m)\n",
    "    \n",
    "def nm_55(n, m):\n",
    "    print('#' * m)\n",
    "    print('#' + '@' * (m - 2) + '#')\n",
    "    print('#@!@#')\n",
    "    print('#' + '@' * (m - 2) + '#')\n",
    "    print('#' * m)\n",
    "\n",
    "def nm_5x(n, m):\n",
    "    print('#' * m)\n",
    "    print('#' + '@' * (m - 2) + '#')\n",
    "    print('#@!' + ' ' * (m - 6) + '!@#')\n",
    "    print('#' + '@' * (m - 2) + '#')\n",
    "    print('#' * m)\n",
    "    \n",
    "n, m = int(input()), int(input())\n",
    "if n > 5 and m > 5:\n",
    "    nm_66(n, m)\n",
    "elif n < 3:\n",
    "    nm_2x(n, m)\n",
    "elif n < 5:\n",
    "    nm_4x(n, m)\n",
    "elif n == 5:\n",
    "    if m == 5:\n",
    "        nm_55(n, m)\n",
    "    else:\n",
    "        nm_5x(n, m)"
   ]
  },
  {
   "cell_type": "code",
   "execution_count": 125,
   "id": "0c6497e4",
   "metadata": {},
   "outputs": [
    {
     "name": "stdout",
     "output_type": "stream",
     "text": [
      "20\n",
      "100\n",
      "25 76 "
     ]
    }
   ],
   "source": [
    "a, b = int(input()), int(input())\n",
    "found = False\n",
    "for i in range(a, b + 1):\n",
    "    if str(i**2)[len(str(i**2)) - len(str(i)):] == str(i):\n",
    "        found = True\n",
    "        print(i, end=' ')\n",
    "if found == False:\n",
    "    print(-1)\n",
    "        \n",
    "        "
   ]
  },
  {
   "cell_type": "code",
   "execution_count": 126,
   "id": "bd006d03",
   "metadata": {},
   "outputs": [
    {
     "name": "stdout",
     "output_type": "stream",
     "text": [
      "5\n",
      "30\n",
      "6 28 "
     ]
    }
   ],
   "source": [
    "a, b = int(input()), int(input())\n",
    "found = False\n",
    "for i in range(a, b + 1):\n",
    "    total = 0\n",
    "    for j in range(1, i):\n",
    "        if i % j == 0:\n",
    "            total += j\n",
    "    if total == i:\n",
    "        found = True\n",
    "        print(i, end=' ')\n",
    "if found == False:\n",
    "    print(-1)"
   ]
  },
  {
   "cell_type": "code",
   "execution_count": 83,
   "id": "8c01a3c7",
   "metadata": {},
   "outputs": [
    {
     "name": "stdout",
     "output_type": "stream",
     "text": [
      "30\n",
      "30\n",
      "##############################\n",
      "#@@@@@@@@@@@@@@@@@@@@@@@@@@@@#\n",
      "#@!------------------------!@#\n",
      "#@-!----------------------!-@#\n",
      "#@--!--------------------!--@#\n",
      "#@---!------------------!---@#\n",
      "#@----!----------------!----@#\n",
      "#@-----!--------------!-----@#\n",
      "#@------!------------!------@#\n",
      "#@-------!----------!-------@#\n",
      "#@--------!--------!--------@#\n",
      "#@---------!------!---------@#\n",
      "#@----------!----!----------@#\n",
      "#@-----------!--!-----------@#\n",
      "#@------------!!------------@#\n",
      "#@!------------------------!@#\n",
      "#@-!----------------------!-@#\n",
      "#@--!--------------------!--@#\n",
      "#@---!------------------!---@#\n",
      "#@----!----------------!----@#\n",
      "#@-----!--------------!-----@#\n",
      "#@------!------------!------@#\n",
      "#@-------!----------!-------@#\n",
      "#@--------!--------!--------@#\n",
      "#@---------!------!---------@#\n",
      "#@----------!----!----------@#\n",
      "#@-----------!--!-----------@#\n",
      "#@------------!!------------@#\n",
      "#@@@@@@@@@@@@@@@@@@@@@@@@@@@@#\n",
      "##############################\n"
     ]
    }
   ],
   "source": [
    "n, m = int(input()), int(input())\n",
    "\n",
    "if m % 2 == 0:\n",
    "    count = (m - 4) // 2\n",
    "else:\n",
    "    count = (m - 4) // 2 + 1\n",
    "\n",
    "for i in range(1, n + 1):\n",
    "    \n",
    "    if i > 2 and i % 2 == 1:\n",
    "        mult = (i - 3) // count\n",
    "    elif i > 2 and i % 2 == 0:\n",
    "        mult = (i - 3) // count\n",
    "        \n",
    "    for j in range(1, m + 1):\n",
    "        if i in (1, n):\n",
    "            print('#', end='')\n",
    "        elif i in (2, n - 1) and n > 2:\n",
    "            if j in (1, m):\n",
    "                print('#', end='')\n",
    "            else:\n",
    "                print('@', end='')\n",
    "        else:\n",
    "            if j in (1, m):\n",
    "                print('#', end='')\n",
    "            elif j in (2, m - 1):\n",
    "                print('@', end='')\n",
    "            else:\n",
    "                if i % 2 == 1:\n",
    "                    if j in (i - count*mult, m - (i - count*mult) + 1) and i - count*mult <= (m - (i - count*mult) + 1):\n",
    "                        print('!', end='')\n",
    "                    else:\n",
    "                        print('-', end='')\n",
    "                else:\n",
    "                    if j in (i - (count*mult), m - (i - (count*mult)) + 1) and i - (count*mult) <= (m - (i - (count*mult)) + 1):\n",
    "                        print('!', end='')\n",
    "                    else:\n",
    "                        print('-', end='')\n",
    "    print()"
   ]
  }
 ],
 "metadata": {
  "kernelspec": {
   "display_name": "Python 3 (ipykernel)",
   "language": "python",
   "name": "python3"
  },
  "language_info": {
   "codemirror_mode": {
    "name": "ipython",
    "version": 3
   },
   "file_extension": ".py",
   "mimetype": "text/x-python",
   "name": "python",
   "nbconvert_exporter": "python",
   "pygments_lexer": "ipython3",
   "version": "3.9.7"
  }
 },
 "nbformat": 4,
 "nbformat_minor": 5
}
